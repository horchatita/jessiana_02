{
 "cells": [
  {
   "cell_type": "markdown",
   "id": "c029248d-d2e3-4a35-9b2f-660892960271",
   "metadata": {},
   "source": [
    "### Group Assignment 2: Exploring Walkscore Data to Add to our Park Access and Affordable Housing\n",
    "# This part of the project aims to visualize and assess variables relevant to walkability across different LA cities\n",
    "# By Adriana Valencia Wences\n"
   ]
  },
  {
   "cell_type": "code",
   "execution_count": 23,
   "id": "8b61092f-8669-4852-882b-b001ceb941fc",
   "metadata": {},
   "outputs": [],
   "source": [
    "# import pandas\n",
    "import pandas as pd"
   ]
  },
  {
   "cell_type": "code",
   "execution_count": 24,
   "id": "7db6b48a-f1a7-412d-a40e-247984144486",
   "metadata": {},
   "outputs": [],
   "source": [
    "# read the Walk Score LA data\n",
    "df = pd.read_csv('Walk_Score__2019_.csv')"
   ]
  },
  {
   "cell_type": "code",
   "execution_count": 25,
   "id": "f8c27637-f658-4824-8976-5f81d1357d8e",
   "metadata": {},
   "outputs": [
    {
     "data": {
      "text/plain": [
       "(71, 2)"
      ]
     },
     "execution_count": 25,
     "metadata": {},
     "output_type": "execute_result"
    }
   ],
   "source": [
    "# look at data size\n",
    "df.shape"
   ]
  },
  {
   "cell_type": "code",
   "execution_count": 31,
   "id": "37f94358-b137-4f57-b635-8d73a31e3187",
   "metadata": {},
   "outputs": [
    {
     "data": {
      "text/html": [
       "<div>\n",
       "<style scoped>\n",
       "    .dataframe tbody tr th:only-of-type {\n",
       "        vertical-align: middle;\n",
       "    }\n",
       "\n",
       "    .dataframe tbody tr th {\n",
       "        vertical-align: top;\n",
       "    }\n",
       "\n",
       "    .dataframe thead th {\n",
       "        text-align: right;\n",
       "    }\n",
       "</style>\n",
       "<table border=\"1\" class=\"dataframe\">\n",
       "  <thead>\n",
       "    <tr style=\"text-align: right;\">\n",
       "      <th></th>\n",
       "      <th>City</th>\n",
       "      <th>Walk Score</th>\n",
       "    </tr>\n",
       "  </thead>\n",
       "  <tbody>\n",
       "    <tr>\n",
       "      <th>0</th>\n",
       "      <td>Agoura Hills</td>\n",
       "      <td>36</td>\n",
       "    </tr>\n",
       "    <tr>\n",
       "      <th>1</th>\n",
       "      <td>Alhambra</td>\n",
       "      <td>69</td>\n",
       "    </tr>\n",
       "    <tr>\n",
       "      <th>2</th>\n",
       "      <td>Arcadia</td>\n",
       "      <td>53</td>\n",
       "    </tr>\n",
       "    <tr>\n",
       "      <th>3</th>\n",
       "      <td>Artesia</td>\n",
       "      <td>75</td>\n",
       "    </tr>\n",
       "    <tr>\n",
       "      <th>4</th>\n",
       "      <td>Azusa</td>\n",
       "      <td>55</td>\n",
       "    </tr>\n",
       "  </tbody>\n",
       "</table>\n",
       "</div>"
      ],
      "text/plain": [
       "           City  Walk Score\n",
       "0  Agoura Hills          36\n",
       "1      Alhambra          69\n",
       "2       Arcadia          53\n",
       "3       Artesia          75\n",
       "4         Azusa          55"
      ]
     },
     "execution_count": 31,
     "metadata": {},
     "output_type": "execute_result"
    }
   ],
   "source": [
    "# look at data size\n",
    "df.head()"
   ]
  },
  {
   "cell_type": "code",
   "execution_count": 32,
   "id": "9212db3e-b180-45f4-8bab-8fa75859fec6",
   "metadata": {},
   "outputs": [],
   "source": [
    "# look at all of the data\n",
    "pd.set_option('display.max_columns', None)\n",
    "pd.set_option('display.max_rows', None)"
   ]
  },
  {
   "cell_type": "code",
   "execution_count": 28,
   "id": "ef081ee7-86ae-4966-937b-27ff63c967ad",
   "metadata": {},
   "outputs": [
    {
     "data": {
      "text/html": [
       "<div>\n",
       "<style scoped>\n",
       "    .dataframe tbody tr th:only-of-type {\n",
       "        vertical-align: middle;\n",
       "    }\n",
       "\n",
       "    .dataframe tbody tr th {\n",
       "        vertical-align: top;\n",
       "    }\n",
       "\n",
       "    .dataframe thead th {\n",
       "        text-align: right;\n",
       "    }\n",
       "</style>\n",
       "<table border=\"1\" class=\"dataframe\">\n",
       "  <thead>\n",
       "    <tr style=\"text-align: right;\">\n",
       "      <th></th>\n",
       "      <th>City</th>\n",
       "      <th>Walk Score</th>\n",
       "    </tr>\n",
       "  </thead>\n",
       "  <tbody>\n",
       "    <tr>\n",
       "      <th>1</th>\n",
       "      <td>Alhambra</td>\n",
       "      <td>69</td>\n",
       "    </tr>\n",
       "  </tbody>\n",
       "</table>\n",
       "</div>"
      ],
      "text/plain": [
       "       City  Walk Score\n",
       "1  Alhambra          69"
      ]
     },
     "execution_count": 28,
     "metadata": {},
     "output_type": "execute_result"
    }
   ],
   "source": [
    "# look at sample\n",
    "df.sample()"
   ]
  },
  {
   "cell_type": "code",
   "execution_count": 33,
   "id": "a64825b9-ff18-4706-808d-78934866573a",
   "metadata": {},
   "outputs": [],
   "source": [
    "# import relevant libraries before plotting and visualizing\n",
    "# read and visualize spatial data\n",
    "import geopandas as gpd\n",
    "\n",
    "# add basemaps\n",
    "import contextily as ctx\n",
    "\n",
    "#add plots\n",
    "import matplotlib.pyplot as plt\n"
   ]
  },
  {
   "cell_type": "code",
   "execution_count": 34,
   "id": "a5d3a4b9-3fb9-420d-8484-b884f7d02afc",
   "metadata": {},
   "outputs": [
    {
     "data": {
      "text/plain": [
       "<bound method DataFrame.info of                     City  Walk Score\n",
       "0           Agoura Hills          36\n",
       "1               Alhambra          69\n",
       "2                Arcadia          53\n",
       "3                Artesia          75\n",
       "4                  Azusa          55\n",
       "5           Baldwin Park          50\n",
       "6                   Bell          74\n",
       "7           Bell Gardens          68\n",
       "8             Bellflower          62\n",
       "9          Beverly Hills          78\n",
       "10               Burbank          69\n",
       "11             Calabasas          20\n",
       "12                Carson          53\n",
       "13              Cerritos          54\n",
       "14             Claremont          46\n",
       "15               Compton          63\n",
       "16                Covina          56\n",
       "17                Cudahy          63\n",
       "18           Culver City          73\n",
       "19           Diamond Bar          28\n",
       "20                Downey          59\n",
       "21                Duarte          47\n",
       "22              El Monte          60\n",
       "23            El Segundo          69\n",
       "24               Gardena          74\n",
       "25              Glendale          69\n",
       "26              Glendora          44\n",
       "27             Hawthorne          69\n",
       "28         Hermosa Beach          84\n",
       "29       Huntington Park          80\n",
       "30             Inglewood          69\n",
       "31  La Cañada Flintridge          31\n",
       "32              La Habra          61\n",
       "33             La Mirada          47\n",
       "34             La Puente          54\n",
       "35              La Verne          39\n",
       "36              Lakewood          53\n",
       "37             Lancaster          28\n",
       "38              Lawndale          76\n",
       "39                Lomita          69\n",
       "40            Long Beach          70\n",
       "41           Los Angeles          67\n",
       "42               Lynwood          65\n",
       "43       Manhattan Beach          70\n",
       "44               Maywood          77\n",
       "45              Monrovia          60\n",
       "46            Montebello          64\n",
       "47         Monterey Park          61\n",
       "48               Norwalk          58\n",
       "49              Palmdale          25\n",
       "50             Paramount          63\n",
       "51              Pasadena          66\n",
       "52           Pico Rivera          56\n",
       "53                Pomona          52\n",
       "54   Rancho Palos Verdes          26\n",
       "55         Redondo Beach          74\n",
       "56              Rosemead          61\n",
       "57             San Dimas          36\n",
       "58          San Fernando          73\n",
       "59           San Gabriel          69\n",
       "60         Santa Clarita          34\n",
       "61          Santa Monica          83\n",
       "62        South El Monte          64\n",
       "63            South Gate          69\n",
       "64        South Pasadena          65\n",
       "65           Temple City          55\n",
       "66              Torrance          64\n",
       "67                Walnut          32\n",
       "68           West Covina          45\n",
       "69        West Hollywood          91\n",
       "70              Whittier          61>"
      ]
     },
     "execution_count": 34,
     "metadata": {},
     "output_type": "execute_result"
    }
   ],
   "source": [
    "# look at data types\n",
    "df.info"
   ]
  },
  {
   "cell_type": "code",
   "execution_count": 35,
   "id": "000d7602-48df-40a1-8de3-e1b6cf87102d",
   "metadata": {},
   "outputs": [
    {
     "data": {
      "text/plain": [
       "<AxesSubplot:>"
      ]
     },
     "execution_count": 35,
     "metadata": {},
     "output_type": "execute_result"
    },
    {
     "data": {
      "image/png": "[encoded data removed]",
      "text/plain": [
       "<Figure size 720x720 with 1 Axes>"
      ]
     },
     "metadata": {
      "needs_background": "light"
     },
     "output_type": "display_data"
    }
   ],
   "source": [
    "# plot data\n",
    "df.plot(figsize=(10,10))"
   ]
  },
  {
   "cell_type": "code",
   "execution_count": 36,
   "id": "c3d6d4ec-4268-49dc-a613-ef701b77350c",
   "metadata": {},
   "outputs": [],
   "source": [
    "# need to decide if we are doing incorporated cities, may need to filter out unicorporated cities later\n",
    "# need to add geospatial data, so that I can map it based on city\n",
    "# need to look up how to add city names instead of numbers assigned to cities and arranged the axes accordingly, small to large\n",
    "# for now, I will add LA City Boundary data in order to add city geodata into this notebook"
   ]
  },
  {
   "cell_type": "code",
   "execution_count": 39,
   "id": "0918b6c3-8669-4ad7-9840-0c0272dc65e0",
   "metadata": {},
   "outputs": [],
   "source": [
    "# read LA County City Boundary Data\n",
    "gdf = gpd.read_file('LA_County_City_Boundaries.geojson')"
   ]
  },
  {
   "cell_type": "code",
   "execution_count": 40,
   "id": "1eb661da-fcdb-46e7-86b8-10a2f9fc43af",
   "metadata": {},
   "outputs": [
    {
     "data": {
      "text/plain": [
       "(318, 20)"
      ]
     },
     "execution_count": 40,
     "metadata": {},
     "output_type": "execute_result"
    }
   ],
   "source": [
    "# look at City Boundary Data\n",
    "gdf.shape"
   ]
  },
  {
   "cell_type": "code",
   "execution_count": 41,
   "id": "4a237533-e983-4732-aca8-8a8a1da00ed7",
   "metadata": {},
   "outputs": [
    {
     "data": {
      "text/html": [
       "<div>\n",
       "<style scoped>\n",
       "    .dataframe tbody tr th:only-of-type {\n",
       "        vertical-align: middle;\n",
       "    }\n",
       "\n",
       "    .dataframe tbody tr th {\n",
       "        vertical-align: top;\n",
       "    }\n",
       "\n",
       "    .dataframe thead th {\n",
       "        text-align: right;\n",
       "    }\n",
       "</style>\n",
       "<table border=\"1\" class=\"dataframe\">\n",
       "  <thead>\n",
       "    <tr style=\"text-align: right;\">\n",
       "      <th></th>\n",
       "      <th>OBJECTID</th>\n",
       "      <th>CITY</th>\n",
       "      <th>CITY_ID</th>\n",
       "      <th>CITY_TYPE</th>\n",
       "      <th>CITY_NAME</th>\n",
       "      <th>CITY_LABEL</th>\n",
       "      <th>COLOR_CODE</th>\n",
       "      <th>ABBR</th>\n",
       "      <th>CITY_NO</th>\n",
       "      <th>DESCRIPTN</th>\n",
       "      <th>URL</th>\n",
       "      <th>PHONE</th>\n",
       "      <th>OF_AREA_SM</th>\n",
       "      <th>FEAT_TYPE</th>\n",
       "      <th>COMMENT</th>\n",
       "      <th>COLOR_EGIS</th>\n",
       "      <th>POPULATION</th>\n",
       "      <th>ShapeSTArea</th>\n",
       "      <th>ShapeSTLength</th>\n",
       "      <th>geometry</th>\n",
       "    </tr>\n",
       "  </thead>\n",
       "  <tbody>\n",
       "    <tr>\n",
       "      <th>0</th>\n",
       "      <td>47054</td>\n",
       "      <td>None</td>\n",
       "      <td>None</td>\n",
       "      <td>Unincorporated</td>\n",
       "      <td>Unincorporated</td>\n",
       "      <td>CO</td>\n",
       "      <td>1</td>\n",
       "      <td>None</td>\n",
       "      <td>0</td>\n",
       "      <td>UNINC</td>\n",
       "      <td>www.lacounty.gov</td>\n",
       "      <td>2139744321</td>\n",
       "      <td>0.000</td>\n",
       "      <td>Land</td>\n",
       "      <td>None</td>\n",
       "      <td>Yellow - RGB 255,255,115</td>\n",
       "      <td>None</td>\n",
       "      <td>9.772983e+07</td>\n",
       "      <td>87319.861585</td>\n",
       "      <td>POLYGON ((-118.29604 34.71834, -118.29713 34.7...</td>\n",
       "    </tr>\n",
       "    <tr>\n",
       "      <th>1</th>\n",
       "      <td>47055</td>\n",
       "      <td>None</td>\n",
       "      <td>None</td>\n",
       "      <td>City</td>\n",
       "      <td>Los Angeles</td>\n",
       "      <td>Los Angeles</td>\n",
       "      <td>9</td>\n",
       "      <td>None</td>\n",
       "      <td>49</td>\n",
       "      <td>LA</td>\n",
       "      <td>http://www.lacity.org</td>\n",
       "      <td>2134733231</td>\n",
       "      <td>468.852</td>\n",
       "      <td>Breakwater</td>\n",
       "      <td>None</td>\n",
       "      <td>Gray - RGB 178,178,178</td>\n",
       "      <td>None</td>\n",
       "      <td>2.211628e+04</td>\n",
       "      <td>979.782645</td>\n",
       "      <td>POLYGON ((-118.45620 33.96123, -118.45636 33.9...</td>\n",
       "    </tr>\n",
       "    <tr>\n",
       "      <th>2</th>\n",
       "      <td>47056</td>\n",
       "      <td>None</td>\n",
       "      <td>None</td>\n",
       "      <td>City</td>\n",
       "      <td>Los Angeles</td>\n",
       "      <td>Los Angeles</td>\n",
       "      <td>9</td>\n",
       "      <td>None</td>\n",
       "      <td>49</td>\n",
       "      <td>LA</td>\n",
       "      <td>http://www.lacity.org</td>\n",
       "      <td>2134733231</td>\n",
       "      <td>468.852</td>\n",
       "      <td>Breakwater</td>\n",
       "      <td>None</td>\n",
       "      <td>Gray - RGB 178,178,178</td>\n",
       "      <td>None</td>\n",
       "      <td>5.329338e+04</td>\n",
       "      <td>2226.794124</td>\n",
       "      <td>POLYGON ((-118.45722 33.96182, -118.45737 33.9...</td>\n",
       "    </tr>\n",
       "    <tr>\n",
       "      <th>3</th>\n",
       "      <td>47057</td>\n",
       "      <td>None</td>\n",
       "      <td>None</td>\n",
       "      <td>City</td>\n",
       "      <td>Los Angeles</td>\n",
       "      <td>Los Angeles</td>\n",
       "      <td>9</td>\n",
       "      <td>None</td>\n",
       "      <td>49</td>\n",
       "      <td>LA</td>\n",
       "      <td>http://www.lacity.org</td>\n",
       "      <td>2134733231</td>\n",
       "      <td>468.852</td>\n",
       "      <td>Breakwater</td>\n",
       "      <td>None</td>\n",
       "      <td>Gray - RGB 178,178,178</td>\n",
       "      <td>None</td>\n",
       "      <td>1.179389e+05</td>\n",
       "      <td>4796.088398</td>\n",
       "      <td>POLYGON ((-118.46433 33.96365, -118.46433 33.9...</td>\n",
       "    </tr>\n",
       "    <tr>\n",
       "      <th>4</th>\n",
       "      <td>47058</td>\n",
       "      <td>None</td>\n",
       "      <td>None</td>\n",
       "      <td>Unincorporated</td>\n",
       "      <td>Unincorporated</td>\n",
       "      <td>CO</td>\n",
       "      <td>1</td>\n",
       "      <td>None</td>\n",
       "      <td>0</td>\n",
       "      <td>UNINC</td>\n",
       "      <td>www.lacounty.gov</td>\n",
       "      <td>2139744321</td>\n",
       "      <td>0.000</td>\n",
       "      <td>Land</td>\n",
       "      <td>None</td>\n",
       "      <td>Yellow - RGB 255,255,115</td>\n",
       "      <td>None</td>\n",
       "      <td>3.330984e+05</td>\n",
       "      <td>2883.436433</td>\n",
       "      <td>POLYGON ((-118.01564 33.97709, -118.01564 33.9...</td>\n",
       "    </tr>\n",
       "  </tbody>\n",
       "</table>\n",
       "</div>"
      ],
      "text/plain": [
       "   OBJECTID  CITY CITY_ID       CITY_TYPE       CITY_NAME   CITY_LABEL  \\\n",
       "0     47054  None    None  Unincorporated  Unincorporated           CO   \n",
       "1     47055  None    None            City     Los Angeles  Los Angeles   \n",
       "2     47056  None    None            City     Los Angeles  Los Angeles   \n",
       "3     47057  None    None            City     Los Angeles  Los Angeles   \n",
       "4     47058  None    None  Unincorporated  Unincorporated           CO   \n",
       "\n",
       "   COLOR_CODE  ABBR  CITY_NO DESCRIPTN                    URL       PHONE  \\\n",
       "0           1  None        0     UNINC       www.lacounty.gov  2139744321   \n",
       "1           9  None       49        LA  http://www.lacity.org  2134733231   \n",
       "2           9  None       49        LA  http://www.lacity.org  2134733231   \n",
       "3           9  None       49        LA  http://www.lacity.org  2134733231   \n",
       "4           1  None        0     UNINC       www.lacounty.gov  2139744321   \n",
       "\n",
       "   OF_AREA_SM   FEAT_TYPE COMMENT                COLOR_EGIS POPULATION  \\\n",
       "0       0.000        Land    None  Yellow - RGB 255,255,115       None   \n",
       "1     468.852  Breakwater    None    Gray - RGB 178,178,178       None   \n",
       "2     468.852  Breakwater    None    Gray - RGB 178,178,178       None   \n",
       "3     468.852  Breakwater    None    Gray - RGB 178,178,178       None   \n",
       "4       0.000        Land    None  Yellow - RGB 255,255,115       None   \n",
       "\n",
       "    ShapeSTArea  ShapeSTLength  \\\n",
       "0  9.772983e+07   87319.861585   \n",
       "1  2.211628e+04     979.782645   \n",
       "2  5.329338e+04    2226.794124   \n",
       "3  1.179389e+05    4796.088398   \n",
       "4  3.330984e+05    2883.436433   \n",
       "\n",
       "                                            geometry  \n",
       "0  POLYGON ((-118.29604 34.71834, -118.29713 34.7...  \n",
       "1  POLYGON ((-118.45620 33.96123, -118.45636 33.9...  \n",
       "2  POLYGON ((-118.45722 33.96182, -118.45737 33.9...  \n",
       "3  POLYGON ((-118.46433 33.96365, -118.46433 33.9...  \n",
       "4  POLYGON ((-118.01564 33.97709, -118.01564 33.9...  "
      ]
     },
     "execution_count": 41,
     "metadata": {},
     "output_type": "execute_result"
    }
   ],
   "source": [
    "gdf.head()"
   ]
  },
  {
   "cell_type": "code",
   "execution_count": 42,
   "id": "2eb73a3e-d78c-4d18-85a8-cd7178e1afab",
   "metadata": {},
   "outputs": [
    {
     "data": {
      "text/plain": [
       "<AxesSubplot:>"
      ]
     },
     "execution_count": 42,
     "metadata": {},
     "output_type": "execute_result"
    },
    {
     "data": {
      "image/png": "[encoded data removed]",
      "text/plain": [
       "<Figure size 720x720 with 1 Axes>"
      ]
     },
     "metadata": {
      "needs_background": "light"
     },
     "output_type": "display_data"
    }
   ],
   "source": [
    "# plot it\n",
    "gdf.plot(figsize=(10,10))"
   ]
  },
  {
   "cell_type": "code",
   "execution_count": 43,
   "id": "c81fd8db-e557-4e3a-9c67-20bfd712c74b",
   "metadata": {},
   "outputs": [
    {
     "name": "stdout",
     "output_type": "stream",
     "text": [
      "<class 'geopandas.geodataframe.GeoDataFrame'>\n",
      "RangeIndex: 318 entries, 0 to 317\n",
      "Data columns (total 20 columns):\n",
      " #   Column         Non-Null Count  Dtype   \n",
      "---  ------         --------------  -----   \n",
      " 0   OBJECTID       318 non-null    int64   \n",
      " 1   CITY           0 non-null      object  \n",
      " 2   CITY_ID        0 non-null      object  \n",
      " 3   CITY_TYPE      318 non-null    object  \n",
      " 4   CITY_NAME      318 non-null    object  \n",
      " 5   CITY_LABEL     318 non-null    object  \n",
      " 6   COLOR_CODE     318 non-null    int64   \n",
      " 7   ABBR           0 non-null      object  \n",
      " 8   CITY_NO        318 non-null    int64   \n",
      " 9   DESCRIPTN      318 non-null    object  \n",
      " 10  URL            318 non-null    object  \n",
      " 11  PHONE          318 non-null    object  \n",
      " 12  OF_AREA_SM     318 non-null    float64 \n",
      " 13  FEAT_TYPE      318 non-null    object  \n",
      " 14  COMMENT        0 non-null      object  \n",
      " 15  COLOR_EGIS     318 non-null    object  \n",
      " 16  POPULATION     0 non-null      object  \n",
      " 17  ShapeSTArea    318 non-null    float64 \n",
      " 18  ShapeSTLength  318 non-null    float64 \n",
      " 19  geometry       318 non-null    geometry\n",
      "dtypes: float64(3), geometry(1), int64(3), object(13)\n",
      "memory usage: 49.8+ KB\n"
     ]
    }
   ],
   "source": [
    "# yay it worked\n",
    "# look at data types\n",
    "gdf.info()"
   ]
  },
  {
   "cell_type": "code",
   "execution_count": 45,
   "id": "cfb896be-5ab3-46ca-a291-518a3ba61509",
   "metadata": {},
   "outputs": [
    {
     "data": {
      "text/plain": [
       "0    Unincorporated\n",
       "1       Los Angeles\n",
       "2       Los Angeles\n",
       "3       Los Angeles\n",
       "4    Unincorporated\n",
       "Name: CITY_NAME, dtype: object"
      ]
     },
     "execution_count": 45,
     "metadata": {},
     "output_type": "execute_result"
    }
   ],
   "source": [
    "# now to get cities, instead of geoid, it doesn't come with geoid info\n",
    "gdf.CITY_NAME.head()"
   ]
  },
  {
   "cell_type": "code",
   "execution_count": null,
   "id": "258e4bb7-39b6-4357-9335-c773b5b728b6",
   "metadata": {},
   "outputs": [],
   "source": []
  }
 ],
 "metadata": {
  "kernelspec": {
   "display_name": "Python 3 (ipykernel)",
   "language": "python",
   "name": "python3"
  },
  "language_info": {
   "codemirror_mode": {
    "name": "ipython",
    "version": 3
   },
   "file_extension": ".py",
   "mimetype": "text/x-python",
   "name": "python",
   "nbconvert_exporter": "python",
   "pygments_lexer": "ipython3",
   "version": "3.9.6"
  }
 },
 "nbformat": 4,
 "nbformat_minor": 5
}
