{
 "cells": [
  {
   "cell_type": "code",
   "execution_count": null,
   "id": "15ab030f-57af-40cf-a8fb-b0a3eca5101f",
   "metadata": {},
   "outputs": [],
   "source": [
    "# Building upon housing, parks, and income data"
   ]
  },
  {
   "cell_type": "code",
   "execution_count": null,
   "id": "051178ee-52e9-4e26-9de3-a4349c89e787",
   "metadata": {},
   "outputs": [],
   "source": [
    "# By: Adriana Valencia Wences"
   ]
  },
  {
   "cell_type": "code",
   "execution_count": 1,
   "id": "30665676-2d30-45ca-882f-54ab52b3e615",
   "metadata": {},
   "outputs": [],
   "source": [
    "# first I will import my libraries\n",
    "# pandas for data analysis\n",
    "import pandas as pd\n",
    "# geopandas for spatial analysis\n",
    "import geopandas as gpd\n",
    "# contextily for basemaps\n",
    "import contextily as ctx\n",
    "# networkx for network analysis\n",
    "import networkx as nx\n",
    "# for street network analysis\n",
    "import osmnx as ox"
   ]
  },
  {
   "cell_type": "code",
   "execution_count": 2,
   "id": "b9ac6256-aa8b-43ac-985f-233fee55adeb",
   "metadata": {},
   "outputs": [],
   "source": [
    "#import the LAC Affordable Housing data\n",
    "LAC_aff_housing_clean = gpd.read_file('data/Aff_Housing_5_cities.csv')"
   ]
  },
  {
   "cell_type": "code",
   "execution_count": null,
   "id": "00a856e4-2f73-4f93-acd2-82a555916a28",
   "metadata": {},
   "outputs": [],
   "source": []
  }
 ],
 "metadata": {
  "kernelspec": {
   "display_name": "Python 3 (ipykernel)",
   "language": "python",
   "name": "python3"
  },
  "language_info": {
   "codemirror_mode": {
    "name": "ipython",
    "version": 3
   },
   "file_extension": ".py",
   "mimetype": "text/x-python",
   "name": "python",
   "nbconvert_exporter": "python",
   "pygments_lexer": "ipython3",
   "version": "3.9.6"
  }
 },
 "nbformat": 4,
 "nbformat_minor": 5
}
